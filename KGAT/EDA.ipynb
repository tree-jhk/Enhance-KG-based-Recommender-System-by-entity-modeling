{
 "cells": [
  {
   "cell_type": "code",
   "execution_count": 10,
   "metadata": {},
   "outputs": [],
   "source": [
    "import numpy as np\n",
    "import pandas as pd\n",
    "from tqdm import tqdm"
   ]
  },
  {
   "cell_type": "code",
   "execution_count": 11,
   "metadata": {},
   "outputs": [],
   "source": [
    "def load_cf(filename):\n",
    "    user = []\n",
    "    item = []\n",
    "    user_dict = dict()\n",
    "\n",
    "    lines = open(filename, 'r').readlines()\n",
    "    # user가 선호하는 아이템들 리스트\n",
    "    for l in tqdm(lines):\n",
    "        tmp = l.strip()\n",
    "        inter = [int(i) for i in tmp.split()]\n",
    "\n",
    "        if len(inter) > 1:\n",
    "            user_id, item_ids = inter[0], inter[1:]\n",
    "            item_ids = list(set(item_ids))\n",
    "\n",
    "            for item_id in item_ids:\n",
    "                user.append(user_id)\n",
    "                item.append(item_id)\n",
    "            user_dict[user_id] = item_ids\n",
    "\n",
    "    user = np.array(user, dtype=np.int32)\n",
    "    item = np.array(item, dtype=np.int32)\n",
    "    return (user, item), user_dict"
   ]
  },
  {
   "cell_type": "code",
   "execution_count": 12,
   "metadata": {},
   "outputs": [],
   "source": [
    "train_file = \"./datasets/last-fm/train.txt\""
   ]
  },
  {
   "cell_type": "code",
   "execution_count": 13,
   "metadata": {},
   "outputs": [
    {
     "name": "stderr",
     "output_type": "stream",
     "text": [
      "100%|██████████| 23566/23566 [00:00<00:00, 24779.99it/s]\n"
     ]
    }
   ],
   "source": [
    "cf_train_data, train_user_dict = load_cf(train_file)"
   ]
  },
  {
   "cell_type": "code",
   "execution_count": 21,
   "metadata": {},
   "outputs": [
    {
     "name": "stdout",
     "output_type": "stream",
     "text": [
      "<class 'tuple'>\n",
      "<class 'numpy.ndarray'>\n",
      "<class 'numpy.ndarray'>\n",
      "<class 'dict'>\n"
     ]
    }
   ],
   "source": [
    "print(type(cf_train_data))\n",
    "print(type(cf_train_data[0]))\n",
    "print(type(cf_train_data[1]))\n",
    "print(type(train_user_dict))"
   ]
  },
  {
   "cell_type": "code",
   "execution_count": 22,
   "metadata": {},
   "outputs": [
    {
     "name": "stdout",
     "output_type": "stream",
     "text": [
      "2\n",
      "1289003\n",
      "1289003\n",
      "23566\n"
     ]
    }
   ],
   "source": [
    "print(len(cf_train_data))\n",
    "print(len(cf_train_data[0]))\n",
    "print(len(cf_train_data[1]))\n",
    "print(len(train_user_dict))"
   ]
  },
  {
   "cell_type": "code",
   "execution_count": 24,
   "metadata": {},
   "outputs": [
    {
     "data": {
      "text/plain": [
       "113"
      ]
     },
     "execution_count": 24,
     "metadata": {},
     "output_type": "execute_result"
    }
   ],
   "source": [
    "len(train_user_dict[0])"
   ]
  },
  {
   "cell_type": "code",
   "execution_count": null,
   "metadata": {},
   "outputs": [],
   "source": [
    "\"\"\"\n",
    "user:\n",
    "    [0, 0, 0, 0, 0, ..., 999, 999, 999, 999, 999]\n",
    "item:\n",
    "    [0의 선호 item0, 0의 선호 item1, 0의 선호 item, ..., 999의 선호 item]\n",
    "\"\"\""
   ]
  },
  {
   "cell_type": "code",
   "execution_count": 29,
   "metadata": {},
   "outputs": [],
   "source": [
    "kg_file = \"./datasets/last-fm/kg_final.txt\""
   ]
  },
  {
   "cell_type": "code",
   "execution_count": 30,
   "metadata": {},
   "outputs": [],
   "source": [
    "def load_kg(filename):\n",
    "# ★★★★★★★ triplet이 이미 사전에 만들어져 있음.\n",
    "    kg_data = pd.read_csv(filename, sep=' ', names=['h', 'r', 't'], engine='python')\n",
    "    kg_data = kg_data.drop_duplicates()\n",
    "    return kg_data"
   ]
  },
  {
   "cell_type": "code",
   "execution_count": 31,
   "metadata": {},
   "outputs": [],
   "source": [
    "kg_data = load_kg(kg_file)"
   ]
  },
  {
   "cell_type": "code",
   "execution_count": 33,
   "metadata": {},
   "outputs": [
    {
     "name": "stdout",
     "output_type": "stream",
     "text": [
      "464567\n",
      "<class 'pandas.core.frame.DataFrame'>\n"
     ]
    }
   ],
   "source": [
    "print(len(kg_data))\n",
    "print(type(kg_data))"
   ]
  },
  {
   "cell_type": "code",
   "execution_count": 34,
   "metadata": {},
   "outputs": [
    {
     "data": {
      "text/html": [
       "<div>\n",
       "<style scoped>\n",
       "    .dataframe tbody tr th:only-of-type {\n",
       "        vertical-align: middle;\n",
       "    }\n",
       "\n",
       "    .dataframe tbody tr th {\n",
       "        vertical-align: top;\n",
       "    }\n",
       "\n",
       "    .dataframe thead th {\n",
       "        text-align: right;\n",
       "    }\n",
       "</style>\n",
       "<table border=\"1\" class=\"dataframe\">\n",
       "  <thead>\n",
       "    <tr style=\"text-align: right;\">\n",
       "      <th></th>\n",
       "      <th>h</th>\n",
       "      <th>r</th>\n",
       "      <th>t</th>\n",
       "    </tr>\n",
       "  </thead>\n",
       "  <tbody>\n",
       "    <tr>\n",
       "      <th>0</th>\n",
       "      <td>12700</td>\n",
       "      <td>0</td>\n",
       "      <td>48123</td>\n",
       "    </tr>\n",
       "  </tbody>\n",
       "</table>\n",
       "</div>"
      ],
      "text/plain": [
       "       h  r      t\n",
       "0  12700  0  48123"
      ]
     },
     "execution_count": 34,
     "metadata": {},
     "output_type": "execute_result"
    }
   ],
   "source": [
    "kg_data.head(1)"
   ]
  },
  {
   "cell_type": "code",
   "execution_count": null,
   "metadata": {},
   "outputs": [],
   "source": []
  }
 ],
 "metadata": {
  "kernelspec": {
   "display_name": "Python 3 (ipykernel)",
   "language": "python",
   "name": "python3"
  },
  "language_info": {
   "codemirror_mode": {
    "name": "ipython",
    "version": 3
   },
   "file_extension": ".py",
   "mimetype": "text/x-python",
   "name": "python",
   "nbconvert_exporter": "python",
   "pygments_lexer": "ipython3",
   "version": "3.9.16"
  }
 },
 "nbformat": 4,
 "nbformat_minor": 4
}
