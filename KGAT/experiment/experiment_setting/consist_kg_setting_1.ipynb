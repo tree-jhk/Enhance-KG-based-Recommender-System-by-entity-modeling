{
 "cells": [
  {
   "attachments": {},
   "cell_type": "markdown",
   "metadata": {},
   "source": [
    "# Setting 1\n",
    "## [MovieLens] KG"
   ]
  },
  {
   "attachments": {},
   "cell_type": "markdown",
   "metadata": {},
   "source": [
    "##### 이 파일에서 최종적으로, KGAT input txt 파일을 만든다.\n",
    "\n",
    "##### 이 파일에서 모든 node들을 dict를 활용해서 mapping해줘서 모든 entity를 구분시킨다."
   ]
  },
  {
   "cell_type": "code",
   "execution_count": 1,
   "metadata": {},
   "outputs": [],
   "source": [
    "import pandas as pd\n",
    "import re\n",
    "import torch\n",
    "from transformers import AutoTokenizer, AutoModel, AutoConfig\n",
    "import os\n",
    "import random\n",
    "import numpy as np\n",
    "from config import *\n",
    "from torch.utils.data import Dataset, DataLoader\n",
    "from sklearn.cluster import DBSCAN\n",
    "from sklearn.decomposition import KernelPCA\n",
    "import matplotlib.pyplot as plt\n",
    "from sklearn.manifold import TSNE\n",
    "from mpl_toolkits.mplot3d import Axes3D\n",
    "from sklearn.metrics import silhouette_score\n",
    "import warnings\n",
    "from sklearn.cluster import KMeans\n",
    "import matplotlib.pyplot as plt\n",
    "import numpy as np\n",
    "from sklearn.metrics.pairwise import cosine_similarity\n",
    "from collections import defaultdict\n",
    "from surprise import SVD, NMF, Dataset, Reader\n",
    "from sklearn.model_selection import train_test_split\n",
    "from tqdm import tqdm\n",
    "tqdm.pandas()\n",
    "warnings.filterwarnings(\"ignore\")"
   ]
  },
  {
   "cell_type": "code",
   "execution_count": 2,
   "metadata": {},
   "outputs": [],
   "source": [
    "ml_movie = pd.read_csv(\"./preprocess_1/movie_0.csv\")\n",
    "c = pd.read_csv(\"./preprocess_1/cluster_0.csv\")\n",
    "d = pd.read_csv(\"./preprocess_1/director_0.csv\")\n",
    "i_s = pd.read_csv(\"./preprocess_1/item_sim_0.csv\")\n",
    "g = pd.read_csv(\"./preprocess_1/movie_genres_0.csv\")\n",
    "r = pd.read_csv(\"./preprocess_1/ratings_0.csv\")\n",
    "s = pd.read_csv(\"./preprocess_1/similarity_0.csv\")\n",
    "u_s = pd.read_csv(\"./preprocess_1/user_sim_0.csv\")\n",
    "user = pd.read_csv(\"./ml-100k/user.csv\")"
   ]
  },
  {
   "cell_type": "code",
   "execution_count": 3,
   "metadata": {},
   "outputs": [
    {
     "name": "stdout",
     "output_type": "stream",
     "text": [
      "\n"
     ]
    }
   ],
   "source": [
    "\"\"\"\n",
    "TODO 1:\n",
    "encoding: encoding dict, decoding dict 만들기\n",
    "0. movie_id encoding\n",
    "    - 0 ~ m\n",
    "1. user_id encodeing\n",
    "    - m ~ m + u\n",
    "2. genre encoding\n",
    "    - m + u ~ m + u + g\n",
    "3. director encoding\n",
    "    - m + u + g ~ m + u + g + d\n",
    "4. storyline encoding\n",
    "    - m + u + g + d  ~ m + u + g + d + s\n",
    "5. cluster encoding\n",
    "    - m + u + g + d + s  ~ m + u + g + d + s + c\n",
    "\n",
    "TODO 2:\n",
    "relation 지정하기\n",
    "is_genre : 0\n",
    "is_similar_user : 1\n",
    "is_similar_item : 2\n",
    "is_director : 3\n",
    "is_storyline : 4\n",
    "is_similar_storyline : 5\n",
    "is_cluster : 6\n",
    "is_prefer : 7\n",
    "\n",
    "만들어야 하는 문자열 형식:\n",
    "\"entity_id_i relation_id entity_id_j\"   (i != j)\n",
    "\"\"\"\n",
    "print()"
   ]
  },
  {
   "cell_type": "code",
   "execution_count": 4,
   "metadata": {},
   "outputs": [
    {
     "data": {
      "text/html": [
       "<div>\n",
       "<style scoped>\n",
       "    .dataframe tbody tr th:only-of-type {\n",
       "        vertical-align: middle;\n",
       "    }\n",
       "\n",
       "    .dataframe tbody tr th {\n",
       "        vertical-align: top;\n",
       "    }\n",
       "\n",
       "    .dataframe thead th {\n",
       "        text-align: right;\n",
       "    }\n",
       "</style>\n",
       "<table border=\"1\" class=\"dataframe\">\n",
       "  <thead>\n",
       "    <tr style=\"text-align: right;\">\n",
       "      <th></th>\n",
       "      <th>movie_id</th>\n",
       "      <th>title</th>\n",
       "      <th>release_date</th>\n",
       "      <th>video_release_date</th>\n",
       "      <th>IMDb_URL</th>\n",
       "    </tr>\n",
       "  </thead>\n",
       "  <tbody>\n",
       "    <tr>\n",
       "      <th>0</th>\n",
       "      <td>1</td>\n",
       "      <td>toy story</td>\n",
       "      <td>01-Jan-95</td>\n",
       "      <td>01-Jan-95</td>\n",
       "      <td>http://us.imdb.com/M/title-exact?Toy%20Story%2...</td>\n",
       "    </tr>\n",
       "    <tr>\n",
       "      <th>1</th>\n",
       "      <td>2</td>\n",
       "      <td>goldeneye</td>\n",
       "      <td>01-Jan-95</td>\n",
       "      <td>01-Jan-95</td>\n",
       "      <td>http://us.imdb.com/M/title-exact?GoldenEye%20(...</td>\n",
       "    </tr>\n",
       "    <tr>\n",
       "      <th>2</th>\n",
       "      <td>3</td>\n",
       "      <td>four rooms</td>\n",
       "      <td>01-Jan-95</td>\n",
       "      <td>01-Jan-95</td>\n",
       "      <td>http://us.imdb.com/M/title-exact?Four%20Rooms%...</td>\n",
       "    </tr>\n",
       "    <tr>\n",
       "      <th>3</th>\n",
       "      <td>4</td>\n",
       "      <td>get shorty</td>\n",
       "      <td>01-Jan-95</td>\n",
       "      <td>01-Jan-95</td>\n",
       "      <td>http://us.imdb.com/M/title-exact?Get%20Shorty%...</td>\n",
       "    </tr>\n",
       "    <tr>\n",
       "      <th>4</th>\n",
       "      <td>5</td>\n",
       "      <td>copycat</td>\n",
       "      <td>01-Jan-95</td>\n",
       "      <td>01-Jan-95</td>\n",
       "      <td>http://us.imdb.com/M/title-exact?Copycat%20(1995)</td>\n",
       "    </tr>\n",
       "    <tr>\n",
       "      <th>...</th>\n",
       "      <td>...</td>\n",
       "      <td>...</td>\n",
       "      <td>...</td>\n",
       "      <td>...</td>\n",
       "      <td>...</td>\n",
       "    </tr>\n",
       "    <tr>\n",
       "      <th>1677</th>\n",
       "      <td>1678</td>\n",
       "      <td>mat' i syn</td>\n",
       "      <td>06-Feb-98</td>\n",
       "      <td>06-Feb-98</td>\n",
       "      <td>http://us.imdb.com/M/title-exact?Mat%27+i+syn+...</td>\n",
       "    </tr>\n",
       "    <tr>\n",
       "      <th>1678</th>\n",
       "      <td>1679</td>\n",
       "      <td>b. monkey</td>\n",
       "      <td>06-Feb-98</td>\n",
       "      <td>06-Feb-98</td>\n",
       "      <td>http://us.imdb.com/M/title-exact?B%2E+Monkey+(...</td>\n",
       "    </tr>\n",
       "    <tr>\n",
       "      <th>1679</th>\n",
       "      <td>1680</td>\n",
       "      <td>sliding doors</td>\n",
       "      <td>01-Jan-98</td>\n",
       "      <td>01-Jan-98</td>\n",
       "      <td>http://us.imdb.com/Title?Sliding+Doors+(1998)</td>\n",
       "    </tr>\n",
       "    <tr>\n",
       "      <th>1680</th>\n",
       "      <td>1681</td>\n",
       "      <td>you so crazy</td>\n",
       "      <td>01-Jan-94</td>\n",
       "      <td>01-Jan-94</td>\n",
       "      <td>http://us.imdb.com/M/title-exact?You%20So%20Cr...</td>\n",
       "    </tr>\n",
       "    <tr>\n",
       "      <th>1681</th>\n",
       "      <td>1682</td>\n",
       "      <td>scream of stone</td>\n",
       "      <td>08-Mar-96</td>\n",
       "      <td>08-Mar-96</td>\n",
       "      <td>http://us.imdb.com/M/title-exact?Schrei%20aus%...</td>\n",
       "    </tr>\n",
       "  </tbody>\n",
       "</table>\n",
       "<p>1682 rows × 5 columns</p>\n",
       "</div>"
      ],
      "text/plain": [
       "      movie_id            title release_date video_release_date  \\\n",
       "0            1        toy story    01-Jan-95          01-Jan-95   \n",
       "1            2        goldeneye    01-Jan-95          01-Jan-95   \n",
       "2            3       four rooms    01-Jan-95          01-Jan-95   \n",
       "3            4       get shorty    01-Jan-95          01-Jan-95   \n",
       "4            5          copycat    01-Jan-95          01-Jan-95   \n",
       "...        ...              ...          ...                ...   \n",
       "1677      1678       mat' i syn    06-Feb-98          06-Feb-98   \n",
       "1678      1679        b. monkey    06-Feb-98          06-Feb-98   \n",
       "1679      1680    sliding doors    01-Jan-98          01-Jan-98   \n",
       "1680      1681     you so crazy    01-Jan-94          01-Jan-94   \n",
       "1681      1682  scream of stone    08-Mar-96          08-Mar-96   \n",
       "\n",
       "                                               IMDb_URL  \n",
       "0     http://us.imdb.com/M/title-exact?Toy%20Story%2...  \n",
       "1     http://us.imdb.com/M/title-exact?GoldenEye%20(...  \n",
       "2     http://us.imdb.com/M/title-exact?Four%20Rooms%...  \n",
       "3     http://us.imdb.com/M/title-exact?Get%20Shorty%...  \n",
       "4     http://us.imdb.com/M/title-exact?Copycat%20(1995)  \n",
       "...                                                 ...  \n",
       "1677  http://us.imdb.com/M/title-exact?Mat%27+i+syn+...  \n",
       "1678  http://us.imdb.com/M/title-exact?B%2E+Monkey+(...  \n",
       "1679      http://us.imdb.com/Title?Sliding+Doors+(1998)  \n",
       "1680  http://us.imdb.com/M/title-exact?You%20So%20Cr...  \n",
       "1681  http://us.imdb.com/M/title-exact?Schrei%20aus%...  \n",
       "\n",
       "[1682 rows x 5 columns]"
      ]
     },
     "execution_count": 4,
     "metadata": {},
     "output_type": "execute_result"
    }
   ],
   "source": [
    "ml_movie"
   ]
  },
  {
   "cell_type": "code",
   "execution_count": 5,
   "metadata": {},
   "outputs": [],
   "source": [
    "total_storyline_id = set(list(s.movie_id.unique()) + list(s.similar_movie_id.unique()) + list(c.movie_id.unique()))"
   ]
  },
  {
   "cell_type": "code",
   "execution_count": 6,
   "metadata": {},
   "outputs": [
    {
     "data": {
      "text/plain": [
       "402"
      ]
     },
     "execution_count": 6,
     "metadata": {},
     "output_type": "execute_result"
    }
   ],
   "source": [
    "len(total_storyline_id)"
   ]
  },
  {
   "cell_type": "code",
   "execution_count": 7,
   "metadata": {},
   "outputs": [],
   "source": [
    "total_storyline_named = [str(movie_id) + '_storyline' for movie_id in total_storyline_id]"
   ]
  },
  {
   "cell_type": "code",
   "execution_count": 8,
   "metadata": {},
   "outputs": [],
   "source": [
    "storyline_naming_dict = {movie_id : new_name for movie_id, new_name in zip(total_storyline_id, total_storyline_named)}"
   ]
  },
  {
   "attachments": {},
   "cell_type": "markdown",
   "metadata": {},
   "source": [
    "별도로 storyline에 이름 부여"
   ]
  },
  {
   "cell_type": "code",
   "execution_count": 9,
   "metadata": {},
   "outputs": [],
   "source": [
    "s['storyline_name'] = s.movie_id.map(storyline_naming_dict)\n",
    "s['similar_storyline_name'] = s.similar_movie_id.map(storyline_naming_dict)"
   ]
  },
  {
   "cell_type": "code",
   "execution_count": 10,
   "metadata": {},
   "outputs": [],
   "source": [
    "c['storyline_name'] = c.movie_id.map(storyline_naming_dict)"
   ]
  },
  {
   "cell_type": "code",
   "execution_count": 11,
   "metadata": {},
   "outputs": [],
   "source": [
    "storyline_name_list = set(list(s.storyline_name.unique()) + list(s.similar_storyline_name.unique()) + list(c.storyline_name.unique()))\n",
    "\n",
    "entity_list = [\n",
    "    sorted(list(ml_movie.movie_id.unique())),\n",
    "    sorted(list((user.user_id).unique())),\n",
    "    sorted(list(g.genre.unique())),\n",
    "    # sorted(list(d.director_name.unique())),\n",
    "    # sorted(list(storyline_name_list)),\n",
    "    # sorted(list(c.cluster_id.unique())),\n",
    "]"
   ]
  },
  {
   "cell_type": "code",
   "execution_count": 12,
   "metadata": {},
   "outputs": [],
   "source": [
    "\"\"\"\n",
    "TODO 1:\n",
    "encoding: encoding dict, decoding dict 만들기\n",
    "0. movie_id encoding\n",
    "    - 0 ~ m\n",
    "1. user_id encodeing\n",
    "    - m ~ m + u\n",
    "2. genre encoding\n",
    "    - m + u ~ m + u + g\n",
    "3. director encoding\n",
    "    - m + u + g ~ m + u + g + d\n",
    "4. storyline encoding\n",
    "    - m + u + g + d  ~ m + u + g + d + s\n",
    "5. cluster encoding\n",
    "    - m + u + g + d + s  ~ m + u + g + d + s + c\n",
    "\"\"\"\n",
    "\n",
    "entity_lists = []\n",
    "entity_len = []\n",
    "encoding_list = []\n",
    "decoding_list = []\n",
    "\n",
    "for i in range(len(entity_list)):\n",
    "    entity_lists.append(entity_list[i])\n",
    "    entity_len.append(len(entity_lists[i]))\n",
    "    encoding_list.append({v : int(idx + sum(entity_len[:i])) for idx, v in enumerate(entity_lists[i])})\n",
    "    decoding_list.append({idx : v for v, idx in encoding_list[i].items()})"
   ]
  },
  {
   "cell_type": "code",
   "execution_count": 13,
   "metadata": {},
   "outputs": [
    {
     "name": "stdout",
     "output_type": "stream",
     "text": [
      "0\n",
      "1682\n",
      "2625\n"
     ]
    }
   ],
   "source": [
    "for i in range(len(entity_list)):\n",
    "    print(sum(entity_len[:i]))"
   ]
  },
  {
   "cell_type": "code",
   "execution_count": 14,
   "metadata": {},
   "outputs": [
    {
     "data": {
      "text/html": [
       "<div>\n",
       "<style scoped>\n",
       "    .dataframe tbody tr th:only-of-type {\n",
       "        vertical-align: middle;\n",
       "    }\n",
       "\n",
       "    .dataframe tbody tr th {\n",
       "        vertical-align: top;\n",
       "    }\n",
       "\n",
       "    .dataframe thead th {\n",
       "        text-align: right;\n",
       "    }\n",
       "</style>\n",
       "<table border=\"1\" class=\"dataframe\">\n",
       "  <thead>\n",
       "    <tr style=\"text-align: right;\">\n",
       "      <th></th>\n",
       "      <th>genre_id</th>\n",
       "      <th>movie_id</th>\n",
       "      <th>genre</th>\n",
       "    </tr>\n",
       "  </thead>\n",
       "  <tbody>\n",
       "    <tr>\n",
       "      <th>0</th>\n",
       "      <td>1</td>\n",
       "      <td>267</td>\n",
       "      <td>unknown</td>\n",
       "    </tr>\n",
       "  </tbody>\n",
       "</table>\n",
       "</div>"
      ],
      "text/plain": [
       "   genre_id  movie_id    genre\n",
       "0         1       267  unknown"
      ]
     },
     "execution_count": 14,
     "metadata": {},
     "output_type": "execute_result"
    }
   ],
   "source": [
    "g.head(1)"
   ]
  },
  {
   "cell_type": "code",
   "execution_count": 15,
   "metadata": {},
   "outputs": [
    {
     "data": {
      "text/html": [
       "<div>\n",
       "<style scoped>\n",
       "    .dataframe tbody tr th:only-of-type {\n",
       "        vertical-align: middle;\n",
       "    }\n",
       "\n",
       "    .dataframe tbody tr th {\n",
       "        vertical-align: top;\n",
       "    }\n",
       "\n",
       "    .dataframe thead th {\n",
       "        text-align: right;\n",
       "    }\n",
       "</style>\n",
       "<table border=\"1\" class=\"dataframe\">\n",
       "  <thead>\n",
       "    <tr style=\"text-align: right;\">\n",
       "      <th></th>\n",
       "      <th>title</th>\n",
       "      <th>overview</th>\n",
       "      <th>cluster_id</th>\n",
       "      <th>movie_id</th>\n",
       "      <th>storyline_name</th>\n",
       "    </tr>\n",
       "  </thead>\n",
       "  <tbody>\n",
       "    <tr>\n",
       "      <th>0</th>\n",
       "      <td>titanic</td>\n",
       "      <td>84 years later, a 101-year-old woman named Ros...</td>\n",
       "      <td>13</td>\n",
       "      <td>313</td>\n",
       "      <td>313_storyline</td>\n",
       "    </tr>\n",
       "  </tbody>\n",
       "</table>\n",
       "</div>"
      ],
      "text/plain": [
       "     title                                           overview  cluster_id  \\\n",
       "0  titanic  84 years later, a 101-year-old woman named Ros...          13   \n",
       "\n",
       "   movie_id storyline_name  \n",
       "0       313  313_storyline  "
      ]
     },
     "execution_count": 15,
     "metadata": {},
     "output_type": "execute_result"
    }
   ],
   "source": [
    "c.head(1)"
   ]
  },
  {
   "cell_type": "code",
   "execution_count": 16,
   "metadata": {},
   "outputs": [
    {
     "data": {
      "text/html": [
       "<div>\n",
       "<style scoped>\n",
       "    .dataframe tbody tr th:only-of-type {\n",
       "        vertical-align: middle;\n",
       "    }\n",
       "\n",
       "    .dataframe tbody tr th {\n",
       "        vertical-align: top;\n",
       "    }\n",
       "\n",
       "    .dataframe thead th {\n",
       "        text-align: right;\n",
       "    }\n",
       "</style>\n",
       "<table border=\"1\" class=\"dataframe\">\n",
       "  <thead>\n",
       "    <tr style=\"text-align: right;\">\n",
       "      <th></th>\n",
       "      <th>title</th>\n",
       "      <th>cosine_similarity</th>\n",
       "      <th>movie_id</th>\n",
       "      <th>similar_movie_id</th>\n",
       "      <th>storyline_name</th>\n",
       "      <th>similar_storyline_name</th>\n",
       "    </tr>\n",
       "  </thead>\n",
       "  <tbody>\n",
       "    <tr>\n",
       "      <th>0</th>\n",
       "      <td>mars attacks!</td>\n",
       "      <td>0.852736</td>\n",
       "      <td>257</td>\n",
       "      <td>235</td>\n",
       "      <td>257_storyline</td>\n",
       "      <td>235_storyline</td>\n",
       "    </tr>\n",
       "  </tbody>\n",
       "</table>\n",
       "</div>"
      ],
      "text/plain": [
       "           title  cosine_similarity  movie_id  similar_movie_id  \\\n",
       "0  mars attacks!           0.852736       257               235   \n",
       "\n",
       "  storyline_name similar_storyline_name  \n",
       "0  257_storyline          235_storyline  "
      ]
     },
     "execution_count": 16,
     "metadata": {},
     "output_type": "execute_result"
    }
   ],
   "source": [
    "s.head(1)"
   ]
  },
  {
   "cell_type": "code",
   "execution_count": 17,
   "metadata": {},
   "outputs": [],
   "source": [
    "\"\"\"\n",
    "TODO 2:\n",
    "relation 지정하기\n",
    "is_genre : 0\n",
    "is_similar_user : 1\n",
    "is_similar_item : 2\n",
    "is_director : 3\n",
    "is_storyline : 4\n",
    "is_similar_storyline : 5\n",
    "is_cluster : 6\n",
    "\n",
    "만들어야 하는 문자열 형식:\n",
    "\"entity_id_i relation_id entity_id_j\"   (i != j)\n",
    "\"\"\"\n",
    "relations = []\n",
    "\n",
    "# is_genre : 0\n",
    "g_ = g[[\"movie_id\", \"genre\"]].drop_duplicates()\n",
    "g_.insert(1, 'relation', 0)\n",
    "g_.movie_id = g_.movie_id.map(encoding_list[0])\n",
    "g_.genre = g_.genre.map(encoding_list[2])\n",
    "\n",
    "# # is_similar_user : 1\n",
    "# u_s_ = u_s[[\"user_id\", \"similar_user_id\"]].drop_duplicates()\n",
    "# u_s_.insert(1, 'relation', 1)\n",
    "# u_s_.user_id = u_s_.user_id.map(encoding_list[1])\n",
    "# u_s_.similar_user_id = u_s_.similar_user_id.map(encoding_list[1])\n",
    "\n",
    "# # is_similar_item : 2\n",
    "# i_s_ = i_s[[\"item_id\", \"similar_item_id\"]].drop_duplicates()\n",
    "# i_s_.insert(1, 'relation', 2)\n",
    "# i_s_.item_id = i_s_.item_id.map(encoding_list[0])\n",
    "# i_s_.similar_item_id = i_s_.similar_item_id.map(encoding_list[0])\n",
    "\n",
    "# # is_director : 3\n",
    "# d_ = d[[\"movie_id\", \"director_name\"]].drop_duplicates()\n",
    "# d_.insert(1, 'relation', 3)\n",
    "# d_.movie_id = d_.movie_id.map(encoding_list[0])\n",
    "# d_.director_name = d_.director_name.map(encoding_list[3])\n",
    "\n",
    "# # is_storyline : 4\n",
    "# # storyline_name에 대한 모든 storyline_name 취합하기\n",
    "# cc = c[[\"movie_id\", \"storyline_name\"]]\n",
    "# ss = s[[\"movie_id\", \"storyline_name\"]]\n",
    "# sss = s[[\"similar_movie_id\", \"similar_storyline_name\"]]\n",
    "# sss.rename(columns={\"similar_movie_id\":\"movie_id\"}, inplace=True)\n",
    "# sss.rename(columns={\"similar_storyline_name\":\"storyline_name\"}, inplace=True)\n",
    "# total_storyline_relation = pd.concat([cc, ss, sss], axis=0)\n",
    "\n",
    "# tsr_ = total_storyline_relation.drop_duplicates()\n",
    "# tsr_.insert(1, 'relation', 4)\n",
    "# tsr_.movie_id = tsr_.movie_id.map(encoding_list[0])\n",
    "# tsr_.storyline_name = tsr_.storyline_name.map(encoding_list[4])\n",
    "\n",
    "# # is_similar_storyline : 5\n",
    "# s_ = s[[\"storyline_name\", \"similar_storyline_name\"]].drop_duplicates()\n",
    "# s_.insert(1, 'relation', 5)\n",
    "# s_.storyline_name = s_.storyline_name.map(encoding_list[4])\n",
    "# s_.similar_storyline_name = s_.similar_storyline_name.map(encoding_list[4])\n",
    "\n",
    "# # is_cluster : 6\n",
    "# c_ = c[[\"movie_id\", \"cluster_id\"]].drop_duplicates()\n",
    "# c_.insert(1, 'relation', 6)\n",
    "# c_.cluster_id = c_.cluster_id.map(encoding_list[5])\n",
    "# c_.movie_id = c_.movie_id.map(encoding_list[0])"
   ]
  },
  {
   "cell_type": "code",
   "execution_count": 18,
   "metadata": {},
   "outputs": [],
   "source": [
    "# 모든 column을 'head', 'relation', 'tail'로 변경\n",
    "g_.rename(columns={\"movie_id\":\"head\"}, inplace=True)\n",
    "g_.rename(columns={\"genre\":\"tail\"}, inplace=True)\n",
    "\n",
    "# u_s_.rename(columns={\"user_id\":\"head\"}, inplace=True)\n",
    "# u_s_.rename(columns={\"similar_user_id\":\"tail\"}, inplace=True)\n",
    "\n",
    "# i_s_.rename(columns={\"item_id\":\"head\"}, inplace=True)\n",
    "# i_s_.rename(columns={\"similar_item_id\":\"tail\"}, inplace=True)\n",
    "\n",
    "# d_.rename(columns={\"movie_id\":\"head\"}, inplace=True)\n",
    "# d_.rename(columns={\"director_name\":\"tail\"}, inplace=True)\n",
    "\n",
    "# tsr_.rename(columns={\"movie_id\":\"head\"}, inplace=True)\n",
    "# tsr_.rename(columns={\"storyline_name\":\"tail\"}, inplace=True)\n",
    "\n",
    "# s_.rename(columns={\"storyline_name\":\"head\"}, inplace=True)\n",
    "# s_.rename(columns={\"similar_storyline_name\":\"tail\"}, inplace=True)\n",
    "\n",
    "# c_.rename(columns={\"movie_id\":\"head\"}, inplace=True)\n",
    "# c_.rename(columns={\"cluster_id\":\"tail\"}, inplace=True)"
   ]
  },
  {
   "cell_type": "code",
   "execution_count": 19,
   "metadata": {},
   "outputs": [],
   "source": [
    "# 모든 relation을 하나의 KG로 통합\n",
    "kg = pd.concat([g_], axis=0)"
   ]
  },
  {
   "cell_type": "code",
   "execution_count": 20,
   "metadata": {},
   "outputs": [],
   "source": [
    "kg.to_csv(\"./setting_1/kg_final.csv\", index=False, sep=\" \")"
   ]
  },
  {
   "cell_type": "code",
   "execution_count": 46,
   "metadata": {},
   "outputs": [
    {
     "name": "stdout",
     "output_type": "stream",
     "text": [
      "\n"
     ]
    }
   ],
   "source": [
    "\"\"\"\n",
    "TODO 1:\n",
    "encoding: encoding dict, decoding dict 만들기\n",
    "0. movie_id encoding\n",
    "    - 0 ~ m\n",
    "1. user_id encodeing\n",
    "    - m ~ m + u\n",
    "2. genre encoding\n",
    "    - m + u ~ m + u + g\n",
    "3. director encoding\n",
    "    - m + u + g ~ m + u + g + d\n",
    "4. storyline encoding\n",
    "    - m + u + g + d  ~ m + u + g + d + s\n",
    "5. cluster encoding\n",
    "    - m + u + g + d + s  ~ m + u + g + d + s + c\n",
    "\"\"\"\n",
    "print()"
   ]
  },
  {
   "cell_type": "code",
   "execution_count": 49,
   "metadata": {},
   "outputs": [],
   "source": [
    "def split_by_user(data, split_ratio:float=0.9):\n",
    "    # user_id별로 데이터를 분리하여 train, test dataset으로 나누기\n",
    "    train = pd.DataFrame()\n",
    "    test = pd.DataFrame()\n",
    "    if split_ratio == 1.0:\n",
    "        for user_id in tqdm(data['user_id'].unique()):\n",
    "            user_df = data[data['user_id'] == user_id]\n",
    "            train = pd.concat([train, user_df], ignore_index=True)\n",
    "        return train, None\n",
    "    else:\n",
    "        for user_id in tqdm(data['user_id'].unique()):\n",
    "            user_df = data[data['user_id'] == user_id]\n",
    "            train_df, test_df = train_test_split(user_df, test_size=split_ratio, random_state=42)\n",
    "            train = pd.concat([train, train_df], ignore_index=True)\n",
    "            test = pd.concat([test, test_df], ignore_index=True)\n",
    "        return train, test"
   ]
  },
  {
   "cell_type": "code",
   "execution_count": 56,
   "metadata": {},
   "outputs": [
    {
     "name": "stderr",
     "output_type": "stream",
     "text": [
      "100%|██████████| 897/897 [00:03<00:00, 293.70it/s]\n"
     ]
    }
   ],
   "source": [
    "test, train = split_by_user(r[r.rating >= 4].groupby('user_id').filter(lambda x: len(x) >= 10))"
   ]
  },
  {
   "cell_type": "code",
   "execution_count": 57,
   "metadata": {},
   "outputs": [
    {
     "name": "stdout",
     "output_type": "stream",
     "text": [
      "49938 5111\n"
     ]
    }
   ],
   "source": [
    "print(len(train), len(test))"
   ]
  },
  {
   "cell_type": "code",
   "execution_count": 58,
   "metadata": {},
   "outputs": [
    {
     "data": {
      "text/html": [
       "<div>\n",
       "<style scoped>\n",
       "    .dataframe tbody tr th:only-of-type {\n",
       "        vertical-align: middle;\n",
       "    }\n",
       "\n",
       "    .dataframe tbody tr th {\n",
       "        vertical-align: top;\n",
       "    }\n",
       "\n",
       "    .dataframe thead th {\n",
       "        text-align: right;\n",
       "    }\n",
       "</style>\n",
       "<table border=\"1\" class=\"dataframe\">\n",
       "  <thead>\n",
       "    <tr style=\"text-align: right;\">\n",
       "      <th></th>\n",
       "      <th>rating_id</th>\n",
       "      <th>user_id</th>\n",
       "      <th>movie_id</th>\n",
       "      <th>rating</th>\n",
       "      <th>timestamp</th>\n",
       "    </tr>\n",
       "  </thead>\n",
       "  <tbody>\n",
       "    <tr>\n",
       "      <th>0</th>\n",
       "      <td>26560</td>\n",
       "      <td>298</td>\n",
       "      <td>23</td>\n",
       "      <td>4</td>\n",
       "      <td>1998-01-07 14:27</td>\n",
       "    </tr>\n",
       "  </tbody>\n",
       "</table>\n",
       "</div>"
      ],
      "text/plain": [
       "   rating_id  user_id  movie_id  rating         timestamp\n",
       "0      26560      298        23       4  1998-01-07 14:27"
      ]
     },
     "execution_count": 58,
     "metadata": {},
     "output_type": "execute_result"
    }
   ],
   "source": [
    "train.head(1)"
   ]
  },
  {
   "cell_type": "code",
   "execution_count": 61,
   "metadata": {},
   "outputs": [],
   "source": [
    "train = train.sort_values(by=['user_id', 'movie_id', 'rating'])\n",
    "test = test.sort_values(by=['user_id', 'movie_id', 'rating'])"
   ]
  },
  {
   "cell_type": "code",
   "execution_count": 89,
   "metadata": {},
   "outputs": [],
   "source": [
    "train_ = train.groupby('user_id')[\"movie_id\"].apply(lambda x: ''.join(str(sorted(x)).strip(\"[\").strip(\"]\").split(\",\"))).reset_index()\n",
    "test_ = test.groupby('user_id')[\"movie_id\"].apply(lambda x: ''.join(str(sorted(x)).strip(\"[\").strip(\"]\").split(\",\"))).reset_index()"
   ]
  },
  {
   "cell_type": "code",
   "execution_count": 90,
   "metadata": {},
   "outputs": [],
   "source": [
    "train_data, test_data = [], []\n",
    "\n",
    "for row in train_.iterrows():\n",
    "    train_data.append(str(row[0]) + \" \" + str(row[1].movie_id))\n",
    "\n",
    "for row in test_.iterrows():\n",
    "    test_data.append(str(row[0]) + \" \" + str(row[1].movie_id))"
   ]
  },
  {
   "cell_type": "code",
   "execution_count": 91,
   "metadata": {},
   "outputs": [],
   "source": [
    "with open(\"./kg/train_data.txt\", \"w\") as output:\n",
    "    output.write(\"\\n\".join(train_data))"
   ]
  },
  {
   "cell_type": "code",
   "execution_count": 92,
   "metadata": {},
   "outputs": [],
   "source": [
    "with open(\"./kg/test_data.txt\", \"w\") as output:\n",
    "    output.write(\"\\n\".join(test_data))"
   ]
  },
  {
   "cell_type": "code",
   "execution_count": null,
   "metadata": {},
   "outputs": [],
   "source": []
  }
 ],
 "metadata": {
  "kernelspec": {
   "display_name": "base",
   "language": "python",
   "name": "python3"
  },
  "language_info": {
   "codemirror_mode": {
    "name": "ipython",
    "version": 3
   },
   "file_extension": ".py",
   "mimetype": "text/x-python",
   "name": "python",
   "nbconvert_exporter": "python",
   "pygments_lexer": "ipython3",
   "version": "3.9.12"
  },
  "orig_nbformat": 4
 },
 "nbformat": 4,
 "nbformat_minor": 2
}
