{
 "cells": [
  {
   "cell_type": "code",
   "execution_count": 2,
   "metadata": {},
   "outputs": [],
   "source": [
    "import pandas as pd\n",
    "import re\n",
    "import torch\n",
    "from transformers import AutoTokenizer, AutoModel, AutoConfig\n",
    "import os\n",
    "import random\n",
    "import numpy as np\n",
    "import sys\n",
    "sys.path.append(\"../../../TextModel/\")\n",
    "from utils import *\n",
    "from torch.utils.data import Dataset, DataLoader\n",
    "from sklearn.cluster import DBSCAN, KMeans\n",
    "from sklearn.decomposition import KernelPCA\n",
    "import matplotlib.pyplot as plt\n",
    "from sklearn.manifold import TSNE\n",
    "from mpl_toolkits.mplot3d import Axes3D\n",
    "from sklearn.metrics import silhouette_score\n",
    "import warnings\n",
    "warnings.filterwarnings(\"ignore\")"
   ]
  },
  {
   "cell_type": "code",
   "execution_count": 3,
   "metadata": {},
   "outputs": [],
   "source": [
    "device = 'cuda:0' if torch.cuda.is_available() else 'cpu'\n",
    "setSeeds()\n",
    "batch_size = 16"
   ]
  },
  {
   "cell_type": "code",
   "execution_count": 4,
   "metadata": {},
   "outputs": [],
   "source": [
    "def load_language_model(num_parameters:int=7, baseline:int=1):\n",
    "    \"\"\"\n",
    "    baseline:\n",
    "        BERT\n",
    "    best:\n",
    "        sentence-transformers/all-MiniLM-L6-v2\n",
    "    second:\n",
    "        sentence-transformers/paraphrase-MiniLM-L6-v2\n",
    "    \"\"\"\n",
    "    if baseline:\n",
    "        model = AutoModel.from_pretrained(f\"bert-base-uncased\")\n",
    "    else:\n",
    "        available_LlamaModel_parameters = [7, 13, 33, 65]\n",
    "        assert num_parameters in available_LlamaModel_parameters, f\"{num_parameters}B size model not exists\"\n",
    "        model = AutoModel.from_pretrained('sentence-transformers/all-MiniLM-L6-v2') # 제일 잘 됨\n",
    "        \n",
    "    \n",
    "    return model.to(device)\n",
    "\n",
    "def load_tokenizer(num_parameters:int=7, baseline:int=1):\n",
    "    \"\"\"\n",
    "    baseline:\n",
    "        BERT\n",
    "    best:\n",
    "        sentence-transformers/all-MiniLM-L6-v2\n",
    "    second:\n",
    "        sentence-transformers/paraphrase-MiniLM-L6-v2\n",
    "    \"\"\"\n",
    "    if baseline:\n",
    "        tokenizer = AutoTokenizer.from_pretrained(f\"bert-base-uncased\")\n",
    "    else:\n",
    "        available_LlamaModel_parameters = [7, 13, 33, 65]\n",
    "        assert num_parameters in available_LlamaModel_parameters, f\"{num_parameters}B size model not exists\"\n",
    "        tokenizer = AutoTokenizer.from_pretrained('sentence-transformers/all-MiniLM-L6-v2') # 제일 잘 됨\n",
    "    \n",
    "    return tokenizer\n",
    "\n",
    "def tokenize(text:str, tokenizer, max_length:int=120):\n",
    "    tokenizer.add_special_tokens({'pad_token': '[PAD]'})\n",
    "    encoded_input = tokenizer.encode(\n",
    "                text,\n",
    "                add_special_tokens=True,\n",
    "                return_tensors='pt', # 설정하면 (120) shape의 텐서로 저장함\n",
    "                padding=\"max_length\",\n",
    "                max_length=max_length,\n",
    "                truncation=True,\n",
    "                )\n",
    "    return encoded_input"
   ]
  },
  {
   "cell_type": "code",
   "execution_count": 6,
   "metadata": {},
   "outputs": [
    {
     "name": "stderr",
     "output_type": "stream",
     "text": [
      "Downloading (…)lve/main/config.json: 100%|██████████| 612/612 [00:00<00:00, 107kB/s]\n",
      "Downloading pytorch_model.bin: 100%|██████████| 90.9M/90.9M [00:06<00:00, 13.7MB/s]\n",
      "Downloading (…)okenizer_config.json: 100%|██████████| 350/350 [00:00<00:00, 95.3kB/s]\n",
      "Downloading (…)solve/main/vocab.txt: 100%|██████████| 232k/232k [00:00<00:00, 651kB/s]\n",
      "Downloading (…)/main/tokenizer.json: 100%|██████████| 466k/466k [00:00<00:00, 2.49MB/s]\n",
      "Downloading (…)cial_tokens_map.json: 100%|██████████| 112/112 [00:00<00:00, 178kB/s]\n"
     ]
    }
   ],
   "source": [
    "language_model = load_language_model(baseline=0)\n",
    "tokenizer = load_tokenizer(baseline=0)"
   ]
  },
  {
   "cell_type": "code",
   "execution_count": 7,
   "metadata": {},
   "outputs": [],
   "source": [
    "data = pd.read_csv(\"../../Data/TMDB/tmdb_5000_movies.csv\")"
   ]
  },
  {
   "cell_type": "code",
   "execution_count": 9,
   "metadata": {},
   "outputs": [],
   "source": [
    "data = data.dropna(subset=['overview'])"
   ]
  },
  {
   "cell_type": "code",
   "execution_count": 27,
   "metadata": {},
   "outputs": [],
   "source": [
    "data['len_splited_overview'] = data.overview.apply(lambda x:len(x.split()))\n",
    "sentence_lengths = list(data['len_splited_overview'])\n",
    "margin_length = 10\n",
    "max_seq_length = int(np.mean(sentence_lengths) + 2 * np.std(sentence_lengths)) + margin_length"
   ]
  },
  {
   "cell_type": "code",
   "execution_count": 28,
   "metadata": {},
   "outputs": [],
   "source": [
    "data.loc[:, 'tokenized_overview'] = data.overview.apply(lambda x:tokenize(x, tokenizer, max_seq_length))"
   ]
  },
  {
   "cell_type": "code",
   "execution_count": 29,
   "metadata": {},
   "outputs": [
    {
     "data": {
      "text/plain": [
       "4800"
      ]
     },
     "execution_count": 29,
     "metadata": {},
     "output_type": "execute_result"
    }
   ],
   "source": [
    "len(data.tokenized_overview)"
   ]
  },
  {
   "cell_type": "code",
   "execution_count": 30,
   "metadata": {},
   "outputs": [],
   "source": [
    "texts = torch.stack(list(data.tokenized_overview)).to(device)"
   ]
  },
  {
   "cell_type": "code",
   "execution_count": 32,
   "metadata": {},
   "outputs": [],
   "source": [
    "texts = texts.squeeze(dim=1)"
   ]
  },
  {
   "cell_type": "code",
   "execution_count": 34,
   "metadata": {},
   "outputs": [],
   "source": [
    "text_dataloader = DataLoader(texts, batch_size=batch_size)"
   ]
  },
  {
   "cell_type": "code",
   "execution_count": 36,
   "metadata": {},
   "outputs": [],
   "source": [
    "emb = []"
   ]
  },
  {
   "cell_type": "code",
   "execution_count": 38,
   "metadata": {},
   "outputs": [
    {
     "name": "stderr",
     "output_type": "stream",
     "text": [
      "300it [00:01, 197.86it/s]\n"
     ]
    }
   ],
   "source": [
    "from tqdm import tqdm\n",
    "\n",
    "for i, batch in tqdm(enumerate(text_dataloader)):\n",
    "    t_emb = language_model(batch)\n",
    "    t_emb = t_emb['last_hidden_state'][:, 0, :].cpu().detach().numpy()\n",
    "    emb.append(t_emb)"
   ]
  },
  {
   "cell_type": "code",
   "execution_count": 41,
   "metadata": {},
   "outputs": [],
   "source": [
    "emb = np.concatenate(emb, axis=0)"
   ]
  },
  {
   "cell_type": "code",
   "execution_count": 147,
   "metadata": {},
   "outputs": [],
   "source": [
    "np.save('../text_embedding.npy', emb)"
   ]
  },
  {
   "cell_type": "code",
   "execution_count": 85,
   "metadata": {},
   "outputs": [],
   "source": [
    "tsne = TSNE(n_components=3)\n",
    "tsne_embeddings = tsne.fit_transform(emb)"
   ]
  },
  {
   "cell_type": "code",
   "execution_count": null,
   "metadata": {},
   "outputs": [],
   "source": [
    "n = 40\n",
    "\n",
    "kmeans = KMeans(n_clusters=n, random_state=0)\n",
    "kmeans.fit(tsne_embeddings)\n",
    "clusters = kmeans.predict(tsne_embeddings)\n",
    "\n",
    "print(f\"number of generarated clusters: {len(set(clusters))}\")\n",
    "\n",
    "fig = plt.figure()\n",
    "ax = fig.add_subplot(111, projection='3d')\n",
    "ax.scatter(tsne_embeddings[:, 0], tsne_embeddings[:, 1], tsne_embeddings[:, 2], c=clusters, cmap='tab20')\n",
    "ax.set_title(f'n_clusters={n} Clustering Result')\n",
    "fig.savefig(f'./tsne_cluster_results/{n}.png')\n",
    "\n",
    "from collections import Counter\n",
    "cnt = Counter(clusters)\n",
    "val = cnt.values()\n",
    "print(f'n_clusters={n} Clustering Result:')\n",
    "print(dict(sorted(cnt.items(), key=lambda x:(x[1], x[0]))))\n",
    "max_ = max(val)\n",
    "min_ = min(val)\n",
    "avg_ = sum(val) // len(val)\n",
    "ratio = round(abs(max_ - min_) / avg_, 3)\n",
    "s_score = silhouette_score(tsne_embeddings, clusters)\n",
    "print(f\"{max_=}   {min_=}   {avg_=}   {ratio=}   {s_score=}\")\n",
    "print(\"================================\")"
   ]
  },
  {
   "cell_type": "code",
   "execution_count": 154,
   "metadata": {},
   "outputs": [],
   "source": [
    "data = data.reset_index()\n",
    "\n",
    "clusters_df = pd.DataFrame(clusters, columns=['cluster_id'])\n",
    "cluster_data = pd.concat([data[['original_title', 'overview', 'title']], clusters_df], axis=1)"
   ]
  },
  {
   "cell_type": "code",
   "execution_count": 155,
   "metadata": {},
   "outputs": [],
   "source": [
    "cluster_data.to_csv('../cluster_result/cluster_data.csv', index=False)"
   ]
  },
  {
   "cell_type": "code",
   "execution_count": 156,
   "metadata": {},
   "outputs": [
    {
     "data": {
      "text/html": [
       "<div>\n",
       "<style scoped>\n",
       "    .dataframe tbody tr th:only-of-type {\n",
       "        vertical-align: middle;\n",
       "    }\n",
       "\n",
       "    .dataframe tbody tr th {\n",
       "        vertical-align: top;\n",
       "    }\n",
       "\n",
       "    .dataframe thead th {\n",
       "        text-align: right;\n",
       "    }\n",
       "</style>\n",
       "<table border=\"1\" class=\"dataframe\">\n",
       "  <thead>\n",
       "    <tr style=\"text-align: right;\">\n",
       "      <th></th>\n",
       "      <th>original_title</th>\n",
       "      <th>overview</th>\n",
       "      <th>title</th>\n",
       "      <th>cluster_id</th>\n",
       "    </tr>\n",
       "  </thead>\n",
       "  <tbody>\n",
       "    <tr>\n",
       "      <th>34</th>\n",
       "      <td>Monsters University</td>\n",
       "      <td>A look at the relationship between Mike and Su...</td>\n",
       "      <td>Monsters University</td>\n",
       "      <td>10</td>\n",
       "    </tr>\n",
       "    <tr>\n",
       "      <th>159</th>\n",
       "      <td>Spider-Man</td>\n",
       "      <td>After being bitten by a genetically altered sp...</td>\n",
       "      <td>Spider-Man</td>\n",
       "      <td>10</td>\n",
       "    </tr>\n",
       "    <tr>\n",
       "      <th>219</th>\n",
       "      <td>Charlie's Angels: Full Throttle</td>\n",
       "      <td>The Angels are charged with finding a pair of ...</td>\n",
       "      <td>Charlie's Angels: Full Throttle</td>\n",
       "      <td>10</td>\n",
       "    </tr>\n",
       "    <tr>\n",
       "      <th>381</th>\n",
       "      <td>The Nutcracker: The Untold Story</td>\n",
       "      <td>Set in 1920's Vienna, this a tale of a little ...</td>\n",
       "      <td>The Nutcracker: The Untold Story</td>\n",
       "      <td>10</td>\n",
       "    </tr>\n",
       "    <tr>\n",
       "      <th>483</th>\n",
       "      <td>Timeline</td>\n",
       "      <td>A group of archaeological students become trap...</td>\n",
       "      <td>Timeline</td>\n",
       "      <td>10</td>\n",
       "    </tr>\n",
       "    <tr>\n",
       "      <th>...</th>\n",
       "      <td>...</td>\n",
       "      <td>...</td>\n",
       "      <td>...</td>\n",
       "      <td>...</td>\n",
       "    </tr>\n",
       "    <tr>\n",
       "      <th>4653</th>\n",
       "      <td>Butterfly</td>\n",
       "      <td>Orson Welles, as judge Rauch, holds a lengthy ...</td>\n",
       "      <td>Butterfly</td>\n",
       "      <td>10</td>\n",
       "    </tr>\n",
       "    <tr>\n",
       "      <th>4712</th>\n",
       "      <td>Sound of My Voice</td>\n",
       "      <td>A journalist and his girlfriend get pulled in ...</td>\n",
       "      <td>Sound of My Voice</td>\n",
       "      <td>10</td>\n",
       "    </tr>\n",
       "    <tr>\n",
       "      <th>4721</th>\n",
       "      <td>Eraserhead</td>\n",
       "      <td>Henry Spencer tries to survive his industrial ...</td>\n",
       "      <td>Eraserhead</td>\n",
       "      <td>10</td>\n",
       "    </tr>\n",
       "    <tr>\n",
       "      <th>4764</th>\n",
       "      <td>Run, Hide, Die</td>\n",
       "      <td>On the anniversary weekend of the death of a y...</td>\n",
       "      <td>Run, Hide, Die</td>\n",
       "      <td>10</td>\n",
       "    </tr>\n",
       "    <tr>\n",
       "      <th>4765</th>\n",
       "      <td>The Exploding Girl</td>\n",
       "      <td>On a summer break from college, Ivy, a young e...</td>\n",
       "      <td>The Exploding Girl</td>\n",
       "      <td>10</td>\n",
       "    </tr>\n",
       "  </tbody>\n",
       "</table>\n",
       "<p>129 rows × 4 columns</p>\n",
       "</div>"
      ],
      "text/plain": [
       "                        original_title  \\\n",
       "34                 Monsters University   \n",
       "159                         Spider-Man   \n",
       "219    Charlie's Angels: Full Throttle   \n",
       "381   The Nutcracker: The Untold Story   \n",
       "483                           Timeline   \n",
       "...                                ...   \n",
       "4653                         Butterfly   \n",
       "4712                 Sound of My Voice   \n",
       "4721                        Eraserhead   \n",
       "4764                    Run, Hide, Die   \n",
       "4765                The Exploding Girl   \n",
       "\n",
       "                                               overview  \\\n",
       "34    A look at the relationship between Mike and Su...   \n",
       "159   After being bitten by a genetically altered sp...   \n",
       "219   The Angels are charged with finding a pair of ...   \n",
       "381   Set in 1920's Vienna, this a tale of a little ...   \n",
       "483   A group of archaeological students become trap...   \n",
       "...                                                 ...   \n",
       "4653  Orson Welles, as judge Rauch, holds a lengthy ...   \n",
       "4712  A journalist and his girlfriend get pulled in ...   \n",
       "4721  Henry Spencer tries to survive his industrial ...   \n",
       "4764  On the anniversary weekend of the death of a y...   \n",
       "4765  On a summer break from college, Ivy, a young e...   \n",
       "\n",
       "                                 title  cluster_id  \n",
       "34                 Monsters University          10  \n",
       "159                         Spider-Man          10  \n",
       "219    Charlie's Angels: Full Throttle          10  \n",
       "381   The Nutcracker: The Untold Story          10  \n",
       "483                           Timeline          10  \n",
       "...                                ...         ...  \n",
       "4653                         Butterfly          10  \n",
       "4712                 Sound of My Voice          10  \n",
       "4721                        Eraserhead          10  \n",
       "4764                    Run, Hide, Die          10  \n",
       "4765                The Exploding Girl          10  \n",
       "\n",
       "[129 rows x 4 columns]"
      ]
     },
     "execution_count": 156,
     "metadata": {},
     "output_type": "execute_result"
    }
   ],
   "source": [
    "cluster_data[cluster_data.cluster_id == 10]"
   ]
  },
  {
   "cell_type": "code",
   "execution_count": null,
   "metadata": {},
   "outputs": [],
   "source": [
    "# for n in range(5, 400):\n",
    "#     kmeans = KMeans(n_clusters=n, random_state=0)\n",
    "#     kmeans.fit(tsne_embeddings)\n",
    "#     clusters = kmeans.predict(tsne_embeddings)\n",
    "\n",
    "#     print(f\"number of generarated clusters: {len(set(clusters))}\")\n",
    "\n",
    "#     fig = plt.figure()\n",
    "#     ax = fig.add_subplot(111, projection='3d')\n",
    "#     ax.scatter(tsne_embeddings[:, 0], tsne_embeddings[:, 1], tsne_embeddings[:, 2], c=clusters, cmap='tab20')\n",
    "#     ax.set_title(f'n_clusters={n} Clustering Result')\n",
    "#     fig.savefig(f'./tsne_cluster_results/{n}.png')\n",
    "\n",
    "#     from collections import Counter\n",
    "#     cnt = Counter(clusters)\n",
    "#     val = cnt.values()\n",
    "#     print(f'n_clusters={n} Clustering Result:')\n",
    "#     print(dict(sorted(cnt.items(), key=lambda x:(x[1], x[0]))))\n",
    "#     max_ = max(val)\n",
    "#     min_ = min(val)\n",
    "#     avg_ = sum(val) // len(val)\n",
    "#     ratio = round(abs(max_ - min_) / avg_, 3)\n",
    "#     s_score = silhouette_score(tsne_embeddings, clusters)\n",
    "#     print(f\"{max_=}   {min_=}   {avg_=}   {ratio=}   {s_score=}\")\n",
    "#     print(\"================================\")\n",
    "# fig.show()"
   ]
  },
  {
   "cell_type": "code",
   "execution_count": 139,
   "metadata": {},
   "outputs": [],
   "source": [
    "# kpca = KernelPCA(n_components=3, kernel='rbf')\n",
    "# embeddings_reduced = kpca.fit_transform(emb)"
   ]
  },
  {
   "cell_type": "code",
   "execution_count": null,
   "metadata": {},
   "outputs": [],
   "source": [
    "# for n in range(100, 400):\n",
    "#     kmeans = KMeans(n_clusters=n, random_state=0)\n",
    "#     kmeans.fit(embeddings_reduced)\n",
    "#     clusters = kmeans.predict(embeddings_reduced)\n",
    "\n",
    "#     print(f\"number of generarated clusters: {len(set(clusters))}\")\n",
    "\n",
    "#     fig = plt.figure()\n",
    "#     ax = fig.add_subplot(111, projection='3d')\n",
    "#     ax.scatter(embeddings_reduced[:, 0], embeddings_reduced[:, 1], embeddings_reduced[:, 2], c=clusters, cmap='tab20')\n",
    "#     ax.set_title(f'n_clusters={n} Clustering Result')\n",
    "#     fig.savefig(f'./kpca_cluster_results/{n}.png')\n",
    "\n",
    "#     from collections import Counter\n",
    "#     cnt = Counter(clusters)\n",
    "#     val = cnt.values()\n",
    "#     print(f'n_clusters={n} Clustering Result:')\n",
    "#     print(dict(sorted(cnt.items(), key=lambda x:(x[1], x[0]))))\n",
    "#     max_ = max(val)\n",
    "#     min_ = min(val)\n",
    "#     avg_ = sum(val) // len(val)\n",
    "#     ratio = round(abs(max_ - min_) / avg_, 3)\n",
    "#     s_score = silhouette_score(tsne_embeddings, clusters)\n",
    "#     print(f\"{max_=}   {min_=}   {avg_=}   {ratio=}   {s_score=}\")\n",
    "#     print(\"================================\")\n",
    "# fig.show()"
   ]
  },
  {
   "cell_type": "code",
   "execution_count": null,
   "metadata": {},
   "outputs": [],
   "source": []
  }
 ],
 "metadata": {
  "kernelspec": {
   "display_name": "Python 3 (ipykernel)",
   "language": "python",
   "name": "python3"
  },
  "language_info": {
   "codemirror_mode": {
    "name": "ipython",
    "version": 3
   },
   "file_extension": ".py",
   "mimetype": "text/x-python",
   "name": "python",
   "nbconvert_exporter": "python",
   "pygments_lexer": "ipython3",
   "version": "3.9.12"
  }
 },
 "nbformat": 4,
 "nbformat_minor": 4
}
