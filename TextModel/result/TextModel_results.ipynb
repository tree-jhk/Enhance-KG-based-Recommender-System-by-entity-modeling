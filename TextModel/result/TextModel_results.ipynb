{
 "cells": [
  {
   "cell_type": "code",
   "execution_count": 1,
   "metadata": {},
   "outputs": [],
   "source": [
    "import pandas as pd"
   ]
  },
  {
   "cell_type": "code",
   "execution_count": 2,
   "metadata": {},
   "outputs": [],
   "source": [
    "res = pd.read_csv(\"./final_predict_result.csv\")"
   ]
  },
  {
   "cell_type": "code",
   "execution_count": 3,
   "metadata": {},
   "outputs": [
    {
     "data": {
      "text/html": [
       "<div>\n",
       "<style scoped>\n",
       "    .dataframe tbody tr th:only-of-type {\n",
       "        vertical-align: middle;\n",
       "    }\n",
       "\n",
       "    .dataframe tbody tr th {\n",
       "        vertical-align: top;\n",
       "    }\n",
       "\n",
       "    .dataframe thead th {\n",
       "        text-align: right;\n",
       "    }\n",
       "</style>\n",
       "<table border=\"1\" class=\"dataframe\">\n",
       "  <thead>\n",
       "    <tr style=\"text-align: right;\">\n",
       "      <th></th>\n",
       "      <th>rating</th>\n",
       "      <th>Predict</th>\n",
       "      <th>user_id</th>\n",
       "      <th>movie_id</th>\n",
       "      <th>title</th>\n",
       "    </tr>\n",
       "  </thead>\n",
       "  <tbody>\n",
       "    <tr>\n",
       "      <th>16590</th>\n",
       "      <td>3</td>\n",
       "      <td>3.282</td>\n",
       "      <td>673</td>\n",
       "      <td>301</td>\n",
       "      <td>in &amp; out</td>\n",
       "    </tr>\n",
       "    <tr>\n",
       "      <th>20000</th>\n",
       "      <td>5</td>\n",
       "      <td>3.826</td>\n",
       "      <td>213</td>\n",
       "      <td>156</td>\n",
       "      <td>reservoir dogs</td>\n",
       "    </tr>\n",
       "    <tr>\n",
       "      <th>1233</th>\n",
       "      <td>3</td>\n",
       "      <td>3.089</td>\n",
       "      <td>100</td>\n",
       "      <td>349</td>\n",
       "      <td>hard rain</td>\n",
       "    </tr>\n",
       "    <tr>\n",
       "      <th>39187</th>\n",
       "      <td>3</td>\n",
       "      <td>3.252</td>\n",
       "      <td>387</td>\n",
       "      <td>559</td>\n",
       "      <td>interview with the vampire</td>\n",
       "    </tr>\n",
       "    <tr>\n",
       "      <th>36064</th>\n",
       "      <td>5</td>\n",
       "      <td>3.682</td>\n",
       "      <td>434</td>\n",
       "      <td>237</td>\n",
       "      <td>jerry maguire</td>\n",
       "    </tr>\n",
       "    <tr>\n",
       "      <th>6575</th>\n",
       "      <td>4</td>\n",
       "      <td>3.233</td>\n",
       "      <td>450</td>\n",
       "      <td>280</td>\n",
       "      <td>willy wonka &amp; the chocolate factory</td>\n",
       "    </tr>\n",
       "    <tr>\n",
       "      <th>16243</th>\n",
       "      <td>4</td>\n",
       "      <td>3.854</td>\n",
       "      <td>551</td>\n",
       "      <td>268</td>\n",
       "      <td>chasing amy</td>\n",
       "    </tr>\n",
       "    <tr>\n",
       "      <th>39968</th>\n",
       "      <td>4</td>\n",
       "      <td>3.458</td>\n",
       "      <td>263</td>\n",
       "      <td>125</td>\n",
       "      <td>phenomenon</td>\n",
       "    </tr>\n",
       "    <tr>\n",
       "      <th>43616</th>\n",
       "      <td>3</td>\n",
       "      <td>3.808</td>\n",
       "      <td>170</td>\n",
       "      <td>258</td>\n",
       "      <td>contact</td>\n",
       "    </tr>\n",
       "    <tr>\n",
       "      <th>40176</th>\n",
       "      <td>5</td>\n",
       "      <td>3.929</td>\n",
       "      <td>771</td>\n",
       "      <td>28</td>\n",
       "      <td>apollo 13</td>\n",
       "    </tr>\n",
       "  </tbody>\n",
       "</table>\n",
       "</div>"
      ],
      "text/plain": [
       "       rating  Predict  user_id  movie_id                                title\n",
       "16590       3    3.282      673       301                             in & out\n",
       "20000       5    3.826      213       156                       reservoir dogs\n",
       "1233        3    3.089      100       349                            hard rain\n",
       "39187       3    3.252      387       559           interview with the vampire\n",
       "36064       5    3.682      434       237                        jerry maguire\n",
       "6575        4    3.233      450       280  willy wonka & the chocolate factory\n",
       "16243       4    3.854      551       268                          chasing amy\n",
       "39968       4    3.458      263       125                           phenomenon\n",
       "43616       3    3.808      170       258                              contact\n",
       "40176       5    3.929      771        28                            apollo 13"
      ]
     },
     "execution_count": 3,
     "metadata": {},
     "output_type": "execute_result"
    }
   ],
   "source": [
    "res.sample(10)"
   ]
  },
  {
   "cell_type": "code",
   "execution_count": 4,
   "metadata": {},
   "outputs": [
    {
     "data": {
      "text/plain": [
       "46774"
      ]
     },
     "execution_count": 4,
     "metadata": {},
     "output_type": "execute_result"
    }
   ],
   "source": [
    "len(res)"
   ]
  },
  {
   "cell_type": "code",
   "execution_count": 6,
   "metadata": {},
   "outputs": [
    {
     "name": "stdout",
     "output_type": "stream",
     "text": [
      "threshold: 4.000\n",
      "Precision: 0.808\n",
      "Predicted as bigger than 4: 7994\n",
      "Actually bigger than 4: 6456\n",
      "Total number of data: 46774\n",
      "============================================\n",
      "threshold: 4.100\n",
      "Precision: 0.836\n",
      "Predicted as bigger than 4: 4608\n",
      "Actually bigger than 4: 3850\n",
      "Total number of data: 46774\n",
      "============================================\n",
      "threshold: 4.200\n",
      "Precision: 0.854\n",
      "Predicted as bigger than 4: 2375\n",
      "Actually bigger than 4: 2029\n",
      "Total number of data: 46774\n",
      "============================================\n",
      "threshold: 4.300\n",
      "Precision: 0.856\n",
      "Predicted as bigger than 4: 1413\n",
      "Actually bigger than 4: 1209\n",
      "Total number of data: 46774\n",
      "============================================\n",
      "threshold: 4.400\n",
      "Precision: 0.892\n",
      "Predicted as bigger than 4: 538\n",
      "Actually bigger than 4: 480\n",
      "Total number of data: 46774\n",
      "============================================\n"
     ]
    }
   ],
   "source": [
    "for i in range(0, 9):\n",
    "    threshold = 4.0 + i * 0.1\n",
    "    result = res[(res.Predict >= threshold)]\n",
    "    total = len(result)\n",
    "    actual = len(result[(result.rating >= 4.0)])\n",
    "    if total > 0:\n",
    "        print(\"threshold: %.3f\" % (threshold))\n",
    "        print(\"Precision: %.3f\" % (actual / total))\n",
    "        print(\"Predicted as bigger than %d: %d\" % (threshold, total))\n",
    "        print(\"Actually bigger than %d: %d\" % (threshold, actual))\n",
    "        print(\"Total number of data: %d\" % (len(res)))\n",
    "        print(\"============================================\")"
   ]
  },
  {
   "cell_type": "code",
   "execution_count": null,
   "metadata": {},
   "outputs": [],
   "source": []
  }
 ],
 "metadata": {
  "kernelspec": {
   "display_name": "base",
   "language": "python",
   "name": "python3"
  },
  "language_info": {
   "codemirror_mode": {
    "name": "ipython",
    "version": 3
   },
   "file_extension": ".py",
   "mimetype": "text/x-python",
   "name": "python",
   "nbconvert_exporter": "python",
   "pygments_lexer": "ipython3",
   "version": "3.9.12"
  },
  "orig_nbformat": 4
 },
 "nbformat": 4,
 "nbformat_minor": 2
}
